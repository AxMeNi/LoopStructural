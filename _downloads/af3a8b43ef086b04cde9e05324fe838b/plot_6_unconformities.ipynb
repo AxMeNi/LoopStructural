{
  "cells": [
    {
      "cell_type": "code",
      "execution_count": null,
      "metadata": {
        "collapsed": false
      },
      "outputs": [],
      "source": [
        "%matplotlib inline"
      ]
    },
    {
      "cell_type": "markdown",
      "metadata": {},
      "source": [
        "\n# 1f. Unconformities\nThis tutorial will demonstrate how to add unconformities to a mode using LoopStructural.\n"
      ]
    },
    {
      "cell_type": "code",
      "execution_count": null,
      "metadata": {
        "collapsed": false
      },
      "outputs": [],
      "source": [
        "from LoopStructural import GeologicalModel\nimport pandas as pd\nimport numpy as np\nfrom LoopStructural.visualisation import LavaVuModelViewer"
      ]
    },
    {
      "cell_type": "markdown",
      "metadata": {},
      "source": [
        "## Generate synthetic data\nModel 3 scalar fields where the top is horizontal, the middle is dipping and the bottom is horizontal.\n\n"
      ]
    },
    {
      "cell_type": "code",
      "execution_count": null,
      "metadata": {
        "collapsed": false
      },
      "outputs": [],
      "source": [
        "data = pd.DataFrame(\n    [\n        [0, 0, 3, 0, 0, 0, 1, \"unit_a\"],\n        [0, 0, 1, 1, 0, 0.7, 0.7, \"unit_b\"],\n        [0, 0, 0, 0, 0, 0.7, 0.7, \"unit_b\"],\n        [0, 0, -3, 0, 0, 0, -1, \"unit_c\"],\n    ],\n    columns=[\"X\", \"Y\", \"Z\", \"val\", \"nx\", \"ny\", \"nz\", \"feature_name\"],\n)\n\nmodel = GeologicalModel(np.ones(3) * -5, np.ones(3) * 7)\nmodel.data = data\nmodel.create_and_add_foliation(\"unit_a\")\nmodel.create_and_add_foliation(\"unit_b\")\nmodel.create_and_add_foliation(\"unit_c\")\n\nmodel.update()"
      ]
    },
    {
      "cell_type": "markdown",
      "metadata": {},
      "source": [
        "## Visualise the model without unconformities\n\n\n"
      ]
    },
    {
      "cell_type": "code",
      "execution_count": null,
      "metadata": {
        "collapsed": false
      },
      "outputs": [],
      "source": [
        "view = LavaVuModelViewer(model)\nview.add_isosurface(model[\"unit_a\"], nslices=5)\nview.add_isosurface(model[\"unit_b\"], nslices=5)\nview.add_isosurface(model[\"unit_c\"], nslices=5)\nview.camera = {\n    \"translate\": [0.0, 0.0, -20.67],\n    \"rotate\": [-0.562, -0.438, -0.442, 0.544],\n    \"xyzrotate\": [-94.021, -77.018, 2.784],\n    \"fov\": 45.0,\n}\nview.display()"
      ]
    },
    {
      "cell_type": "markdown",
      "metadata": {},
      "source": [
        "## Add unconformities\nWe add two unconformities to the model\n1. the isovalue of 0 of unit_a is an unconformity\n2. the isovalue of 0 of unit_b is an unconformity\n\nThis means unit_a should not occur below isovalue of 0,\nunit_b should truncate at unit_a isovalue 0 and\nunit_b should not occur below isovalue of 0\nand unit_c should not occur below unit_b isovalue of 0\n\n"
      ]
    },
    {
      "cell_type": "code",
      "execution_count": null,
      "metadata": {
        "collapsed": false
      },
      "outputs": [],
      "source": [
        "model = GeologicalModel(np.ones(3) * -5, np.ones(3) * 7)\nmodel.data = data\nmodel.create_and_add_foliation(\"unit_a\")\nmodel.add_unconformity(model[\"unit_a\"], 0)\nmodel.create_and_add_foliation(\"unit_b\")\nmodel.add_unconformity(model[\"unit_b\"], 0)\nmodel.create_and_add_foliation(\"unit_c\")"
      ]
    },
    {
      "cell_type": "markdown",
      "metadata": {},
      "source": [
        "## We can examine the model by printing the object\n\n"
      ]
    },
    {
      "cell_type": "code",
      "execution_count": null,
      "metadata": {
        "collapsed": false
      },
      "outputs": [],
      "source": [
        "print(model)\n\nmodel.update()"
      ]
    },
    {
      "cell_type": "markdown",
      "metadata": {},
      "source": [
        "## Visualise the model without unconformities\n\n\n"
      ]
    },
    {
      "cell_type": "code",
      "execution_count": null,
      "metadata": {
        "collapsed": false
      },
      "outputs": [],
      "source": [
        "view = LavaVuModelViewer(model)\nview.add_isosurface(model[\"unit_a\"], nslices=5)\nview.add_isosurface(model[\"unit_b\"], nslices=5)\nview.add_isosurface(model[\"unit_c\"], nslices=5)\nview.camera = {\n    \"translate\": [0.0, 0.0, -20.67],\n    \"rotate\": [-0.562, -0.438, -0.442, 0.544],\n    \"xyzrotate\": [-94.021, -77.018, 2.784],\n    \"fov\": 45.0,\n}\nview.display()"
      ]
    },
    {
      "cell_type": "markdown",
      "metadata": {},
      "source": [
        "## Adding onlap unconformity\nWe can also add onlap unconformities to the model, using the previous example lets change the unconformity\nbetween b and c to be an onlap. This means the geometry of c truncates b\n\n"
      ]
    },
    {
      "cell_type": "code",
      "execution_count": null,
      "metadata": {
        "collapsed": false
      },
      "outputs": [],
      "source": [
        "model = GeologicalModel(np.ones(3) * -5, np.ones(3) * 7)\nmodel.data = data\nmodel.create_and_add_foliation(\"unit_a\")\nmodel.add_unconformity(model[\"unit_a\"], 0)\nmodel.create_and_add_foliation(\"unit_b\")\nmodel.create_and_add_foliation(\"unit_c\")\nmodel.add_onlap_unconformity(model[\"unit_c\"], 0)\n\nmodel.update()"
      ]
    },
    {
      "cell_type": "markdown",
      "metadata": {},
      "source": [
        "## Visualise the model with onlap\n\n"
      ]
    },
    {
      "cell_type": "code",
      "execution_count": null,
      "metadata": {
        "collapsed": false
      },
      "outputs": [],
      "source": [
        "view = LavaVuModelViewer(model)\nview.add_isosurface(model[\"unit_a\"], nslices=5)\nview.add_isosurface(model[\"unit_b\"], nslices=5)\nview.add_isosurface(model[\"unit_c\"], nslices=5)\n\nview.camera = {\n    \"translate\": [0.0, 0.0, -20.67],\n    \"rotate\": [-0.562, -0.438, -0.442, 0.544],\n    \"xyzrotate\": [-94.021, -77.018, 2.784],\n    \"fov\": 45.0,\n}\n\nview.display()"
      ]
    }
  ],
  "metadata": {
    "kernelspec": {
      "display_name": "Python 3",
      "language": "python",
      "name": "python3"
    },
    "language_info": {
      "codemirror_mode": {
        "name": "ipython",
        "version": 3
      },
      "file_extension": ".py",
      "mimetype": "text/x-python",
      "name": "python",
      "nbconvert_exporter": "python",
      "pygments_lexer": "ipython3",
      "version": "3.8.15"
    }
  },
  "nbformat": 4,
  "nbformat_minor": 0
}