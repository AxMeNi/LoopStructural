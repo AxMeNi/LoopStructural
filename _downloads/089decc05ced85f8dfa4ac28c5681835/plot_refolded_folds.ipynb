{
  "cells": [
    {
      "cell_type": "code",
      "execution_count": null,
      "metadata": {
        "collapsed": false
      },
      "outputs": [],
      "source": [
        "%matplotlib inline"
      ]
    },
    {
      "cell_type": "markdown",
      "metadata": {},
      "source": [
        "\n# 2b. Refolded folds\n"
      ]
    },
    {
      "cell_type": "code",
      "execution_count": null,
      "metadata": {
        "collapsed": false
      },
      "outputs": [],
      "source": [
        "from LoopStructural import GeologicalModel\nfrom LoopStructural.visualisation import LavaVuModelViewer, RotationAnglePlotter\nfrom LoopStructural.datasets import load_laurent2016\nimport numpy as np\nimport pandas as pd\nimport glob\nimport os\nimport matplotlib.pyplot as plt\nimport logging\n# logging.getLogger().setLevel(logging.INFO)\n\n# load in the data from the provided examples\ndata, bb = load_laurent2016()\n# bb[1,2] = 10000\n\ndata.head()\n\nnewdata = pd.DataFrame([[5923.504395,4748.135254,3588.621094,'s2',1.0]],columns=['X','Y','Z','feature_name','val'])\ndata = pd.concat([data,newdata],sort=False)\n\nrotation = [-69.11979675292969, 15.704944610595703, 6.00014591217041]"
      ]
    },
    {
      "cell_type": "markdown",
      "metadata": {},
      "source": [
        "## Modelling S2\n\n\n"
      ]
    },
    {
      "cell_type": "code",
      "execution_count": null,
      "metadata": {
        "collapsed": false
      },
      "outputs": [],
      "source": [
        "model = GeologicalModel(bb[0,:],bb[1,:])\nmodel.set_model_data(data)\ns2 = model.create_and_add_fold_frame('s2',\n                                     nelements=10000, \n                                     buffer=0.5,\n                                    solver='lu',\n                                    damp=True)\nviewer = LavaVuModelViewer(model)\nviewer.add_scalar_field(s2[0],\n                       cmap='prism')\nviewer.add_isosurface(s2[0],\n                     slices=[0,1])\nviewer.add_data(s2[0])\nviewer.rotate(rotation)\nviewer.display()"
      ]
    },
    {
      "cell_type": "markdown",
      "metadata": {},
      "source": [
        "## Modelling S1\n\n\n"
      ]
    },
    {
      "cell_type": "code",
      "execution_count": null,
      "metadata": {
        "collapsed": false
      },
      "outputs": [],
      "source": [
        "s1 = model.create_and_add_folded_fold_frame('s1',\n                                            limb_wl=4, \n                                            av_fold_axis=True,\n                                            nelements=50000,\n                                            buffer=0.3,\n                                            solver='lu'\n                                           )\n\n\n\nviewer = LavaVuModelViewer(model)\nviewer.add_scalar_field(s1[0],\n                       cmap='prism')\nviewer.rotate([-69.11979675292969, 15.704944610595703, 6.00014591217041])\nviewer.display()"
      ]
    },
    {
      "cell_type": "markdown",
      "metadata": {},
      "source": [
        "## S2/S1 S-Plots \n\n\n"
      ]
    },
    {
      "cell_type": "code",
      "execution_count": null,
      "metadata": {
        "collapsed": false
      },
      "outputs": [],
      "source": [
        "s2_s1_splot = RotationAnglePlotter(s1)\ns2_s1_splot.add_fold_limb_data()\ns2_s1_splot.add_fold_limb_curve()  \n# fig, ax = plt.subplots(1,2,figsize=(10,5))\n# x = np.linspace(s2[0].min(),s2[0].max(),1000)\n# ax[0].plot(x,s1['fold'].fold_limb_rotation(x))\n# ax[0].plot(s1['fold'].fold_limb_rotation.fold_frame_coordinate,s1['fold'].fold_limb_rotation.rotation_angle,'bo')\n# ax[1].plot(s1['limb_svariogram'].lags,s1['limb_svariogram'].variogram,'bo')"
      ]
    },
    {
      "cell_type": "markdown",
      "metadata": {},
      "source": [
        "## Modelling S0\n\n\n"
      ]
    },
    {
      "cell_type": "code",
      "execution_count": null,
      "metadata": {
        "collapsed": false
      },
      "outputs": [],
      "source": [
        "s0 = model.create_and_add_folded_foliation('s0',\n                                            limb_wl=1., \n                                            av_fold_axis=True,\n                                            nelements=50000,\n                                            buffer=0.2,\n                                            damp=True,\n                                           solver='lu'\n                                           )\n\nviewer = LavaVuModelViewer(model)\nviewer.add_scalar_field(s0,\n                       cmap='tab20')\nviewer.rotate([-69.11979675292969, 15.704944610595703, 6.00014591217041])\nviewer.display()"
      ]
    },
    {
      "cell_type": "markdown",
      "metadata": {},
      "source": [
        "## S1/S0 S-Plots \n\n\n"
      ]
    },
    {
      "cell_type": "code",
      "execution_count": null,
      "metadata": {
        "collapsed": false
      },
      "outputs": [],
      "source": [
        "s1_s0_splot = RotationAnglePlotter(s0)\ns1_s0_splot.add_fold_limb_data()\ns1_s0_splot.add_fold_limb_curve()\n\n# fig, ax = plt.subplots(1,2,figsize=(10,5))\n# x = np.linspace(s1[0].min(),s1[0].max(),1000)\n# ax[0].plot(x,s0['fold'].fold_limb_rotation(x))\n# ax[0].plot(s0['fold'].fold_limb_rotation.fold_frame_coordinate,s0['fold'].fold_limb_rotation.rotation_angle,'bo')\n# ax[1].plot(s0['limb_svariogram'].lags,s1['limb_svariogram'].variogram,'bo')\n\nviewer = LavaVuModelViewer(model)\nviewer.add_isosurface(s0,nslices=10,paint_with=s0,cmap='tab20')\n# viewer.add_data(s0)\n# viewer.add_fold(s0['fold'],locations=s0['support'].barycentre[::80])\nviewer.rotate([-69.11979675292969, 15.704944610595703, 6.00014591217041])\nviewer.display()"
      ]
    }
  ],
  "metadata": {
    "kernelspec": {
      "display_name": "Python 3",
      "language": "python",
      "name": "python3"
    },
    "language_info": {
      "codemirror_mode": {
        "name": "ipython",
        "version": 3
      },
      "file_extension": ".py",
      "mimetype": "text/x-python",
      "name": "python",
      "nbconvert_exporter": "python",
      "pygments_lexer": "ipython3",
      "version": "3.8.5"
    }
  },
  "nbformat": 4,
  "nbformat_minor": 0
}