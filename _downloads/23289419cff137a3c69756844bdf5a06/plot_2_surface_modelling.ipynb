{
  "cells": [
    {
      "cell_type": "code",
      "execution_count": null,
      "metadata": {
        "collapsed": false
      },
      "outputs": [],
      "source": [
        "%matplotlib inline"
      ]
    },
    {
      "cell_type": "markdown",
      "metadata": {},
      "source": [
        "\n\n1b. Implicit surface modelling\n===============================\nThis tutorial will demonstrate how to create an implicit surface\nrepresentation of surfaces from a combination of orientation and\nlocation observations.\n\nImplicit surface representation involves finding an unknown function\nwhere $f(x,y,z)$ matches observations of the surface geometry. We\ngenerate a scalar field where the scalar value is the distance away from\na reference horizon. The reference horizon is arbritary and can either\nbe:\n\n-  a single geological surface where the scalar field would represent\n   the signed distance away from this surface. (above the surface\n   positive and below negative)\n-  Where multiple conformable horizons are observed the same scalar\n   field can be used to represent these surfaces and the thickness of\n   the layers is used to determine the relative scalar value for each\n   surface\n\nThis tutorial will demonstrate both of these approaches for modelling a\nnumber of horizons picked from seismic data sets, by following the next\nsteps: 1. Creation of a geological model, which includes: \\*\nPresentation and visualization of the data \\* Addition of a geological\nfeature, which in this case is the stratigraphy of the model. 2.\nVisualization of the scalar field.\n\n\n"
      ]
    },
    {
      "cell_type": "markdown",
      "metadata": {},
      "source": [
        "Imports\n~~~~~~~\nImport the required objects from LoopStructural for visualisation and\nmodel building\n\n"
      ]
    },
    {
      "cell_type": "code",
      "execution_count": null,
      "metadata": {
        "collapsed": false
      },
      "outputs": [],
      "source": [
        "from LoopStructural import GeologicalModel\nfrom LoopStructural.visualisation import LavaVuModelViewer \n\nfrom LoopStructural.datasets import load_claudius #demo data \n\nimport pandas as pd\nimport glob\nimport numpy as np"
      ]
    },
    {
      "cell_type": "markdown",
      "metadata": {},
      "source": [
        "The data for this example can be imported from the example datasets\nmodule in loopstructural.\n\n\n"
      ]
    },
    {
      "cell_type": "code",
      "execution_count": null,
      "metadata": {
        "collapsed": false
      },
      "outputs": [],
      "source": [
        "data, bb = load_claudius()\n\ndata['val'].unique()"
      ]
    },
    {
      "cell_type": "markdown",
      "metadata": {},
      "source": [
        "GeologicalModel\n~~~~~~~~~~~~~~~\n\nTo create a ``GeologicalModel`` the origin (lower left) and max extent\n(upper right) of the model area need to be specified. In this example\nthese are provided in the bb array.\n\n\n"
      ]
    },
    {
      "cell_type": "code",
      "execution_count": null,
      "metadata": {
        "collapsed": false
      },
      "outputs": [],
      "source": [
        "model = GeologicalModel(bb[0,:],bb[1,:])"
      ]
    },
    {
      "cell_type": "markdown",
      "metadata": {},
      "source": [
        "A pandas dataframe with appropriate columns can be used to link the data\nto the geological model. \\* ``X`` is the x coordinate \\* ``Y`` is the y\ncoordinate \\* ``Z`` is the z coordinate \\* ``feature_name`` is a name to link\nthe data to a model object \\* ``val`` is the value of the scalar field\nwhich represents the distance from a reference horizon. It is comparable\nto the relative thickness \\* ``nx`` is the x component of the normal\nvector to the surface gradient \\* ``ny`` is the y component of the\nnormal vector to the surface gradient \\* ``nz`` is the z component of\nthe normal vector to the surface gradeint \\* ``strike`` is the strike\nangle \\* ``dip`` is the dip angle\n\nHaving a look at the data for this example by looking at the top of the\ndataframe and then using a 3D plot\n\n\n"
      ]
    },
    {
      "cell_type": "code",
      "execution_count": null,
      "metadata": {
        "collapsed": false
      },
      "outputs": [],
      "source": [
        "data['feature_name'].unique()\n\nviewer = LavaVuModelViewer(background='white')\nviewer.add_value_data(data[~np.isnan(data['val'])][['X','Y','Z']],data[~np.isnan(data['val'])]['val'],name='value points')\nviewer.add_vector_data(data[~np.isnan(data['nx'])][['X','Y','Z']],\n                       data[~np.isnan(data['nx'])][['nx','ny','nz']],name='orientation points')\nviewer.rotate([-85.18760681152344, 42.93233871459961, 0.8641873002052307])\nviewer.display()"
      ]
    },
    {
      "cell_type": "markdown",
      "metadata": {},
      "source": [
        "The pandas dataframe can be linked to the ``GeologicalModel`` using\n``.set_model_data(dataframe``\n\n\n"
      ]
    },
    {
      "cell_type": "code",
      "execution_count": null,
      "metadata": {
        "collapsed": false
      },
      "outputs": [],
      "source": [
        "model.set_model_data(data)"
      ]
    },
    {
      "cell_type": "markdown",
      "metadata": {},
      "source": [
        "The ``GeologicalModel`` contains an ordered list of the different\ngeological features within a model and how these features interact. This\ncontrols the topology of the different geological features in the model.\nDifferent geological features can be added to the geological model such\nas: \\* Foliations \\* Faults \\* Unconformities \\* Folded foliations \\*\nStructural Frames\n\nIn this example we will only add a foliation using the function\n\n.. code:: python\n\n   model.create_and_add_foliation(name)\n\nwhere name is the name in the ``feature_name`` field, other parameters we\nspecified are the: \\* ``interpolatortype`` - we can either use a\nPiecewiseLinearInterpolator ``PLI``, a FiniteDifferenceInterpolator\n``FDI`` or a radial basis interpolator ``surfe`` \\* ``nelements - int``\nis the how many elements are used to discretize the resulting solution\n\\* ``buffer - float`` buffer percentage around the model area \\*\n``solver`` - the algorithm to solve the least squares problem e.g.\n``lu`` for lower upper decomposition, ``cg`` for conjugate gradient,\n``pyamg`` for an algorithmic multigrid solver \\* ``damp - bool`` -\nwhether to add a small number to the diagonal of the interpolation\nmatrix for discrete interpolators - this can help speed up the solver\nand makes the solution more stable for some interpolators\n\n\n"
      ]
    },
    {
      "cell_type": "code",
      "execution_count": null,
      "metadata": {
        "collapsed": false
      },
      "outputs": [],
      "source": [
        "vals = [0,60,250,330,600]\n\nstrat_column = {'strati':{}}\nfor i in range(len(vals)-1):\n    strat_column['strati']['unit_{}'.format(i)] = {'min':vals[i],'max':vals[i+1],'id':i}\n    \n\n\n\nmodel.set_stratigraphic_column(strat_column)\n\nstrati = model.create_and_add_foliation(\"strati\",\n                                           interpolatortype=\"FDI\", # try changing this to 'PLI'\n                                           nelements=1e4, # try changing between 1e3 and 5e4\n                                           buffer=0.3,\n                                           solver='pyamg',\n                                           damp=True\n                                          )\n\nviewer = LavaVuModelViewer(model)\nviewer.add_model_surfaces()\nviewer.rotate([-85.18760681152344, 42.93233871459961, 0.8641873002052307])\nviewer.display()\nviewer = LavaVuModelViewer(model)\nviewer.add_model()\nviewer.rotate([-85.18760681152344, 42.93233871459961, 0.8641873002052307])\nviewer.display()"
      ]
    }
  ],
  "metadata": {
    "kernelspec": {
      "display_name": "Python 3",
      "language": "python",
      "name": "python3"
    },
    "language_info": {
      "codemirror_mode": {
        "name": "ipython",
        "version": 3
      },
      "file_extension": ".py",
      "mimetype": "text/x-python",
      "name": "python",
      "nbconvert_exporter": "python",
      "pygments_lexer": "ipython3",
      "version": "3.6.6"
    }
  },
  "nbformat": 4,
  "nbformat_minor": 0
}