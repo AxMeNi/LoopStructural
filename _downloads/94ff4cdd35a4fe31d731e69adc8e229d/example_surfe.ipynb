{
  "cells": [
    {
      "cell_type": "code",
      "execution_count": null,
      "metadata": {
        "collapsed": false
      },
      "outputs": [],
      "source": [
        "%matplotlib inline"
      ]
    },
    {
      "cell_type": "markdown",
      "metadata": {},
      "source": [
        "\n# 1f. Radial Basis Interpolation Using Surfe\nSurfe is a C++ library written by Michael Hillier from the Geological Survey of Canada.\nThe library can be found on `<https://github.com/MichaelHillier/surfe>`_\n\nPython wrappers allow for the library to be used from within a python interface. \nThere are two ways of installing surfe:\n1. Follow the CMake instructions on the surfe repository to build the code from source. \n2. Download the precompiled library from the github releases `<https://github.com/MichaelHillier/surfe/releases>`_\n\nOnce you have the correct file for your system you will need to add an environment variable\nto windows :code:`SURFE`\n"
      ]
    },
    {
      "cell_type": "code",
      "execution_count": null,
      "metadata": {
        "collapsed": false
      },
      "outputs": [],
      "source": [
        "from LoopStructural import GeologicalModel\nfrom LoopStructural.visualisation import LavaVuModelViewer\n\nfrom LoopStructural.datasets import load_claudius #demo data\n\nimport pandas as pd\nimport glob\nimport numpy as np\nimport logging\nlogging.getLogger().setLevel(logging.INFO)\n\ndata, bb = load_claudius()#claudius.get_data()\nbb[1,0]+=200\nbb[0,0]-=200\nbb[1,1]+=200\nbb[0,1]-=200\nbb[1,2]+=200\nbb[0,2]-=200\n\nmodel = GeologicalModel(bb[0,:],bb[1,:])\ndata['random'] = np.random.random(data.shape[0])\nmodel.set_model_data(data[data['random'] < 0.01])#[np.isnan(data['val'])])\nstrati = model.create_and_add_foliation(\"strati\",\n                                           interpolatortype=\"surfe\",\n                                        method='single_surface'\n                                        )\nprint(strati.evaluate_value(model.regular_grid((10,10,10))))\nviewer = LavaVuModelViewer(model,background=\"white\")\n\n# determine the number of unique surfaces in the model from\n# the input data and then calculate isosurfaces for this\nunique = np.unique(strati.interpolator.get_value_constraints()[:,3])\nviewer.add_isosurface(model.features[0],\n                       slices=unique,\n                       cmap='prism',\n                      paint_with=model.features[0])\n#\n# # viewer.add_section(model.features[0],\n# #                    axis='x',\n# #                    value=0,\n# #                    boundary_points=model.bounding_box,\n# #                    nsteps=np.array([30,30,30]),\n# #                     ,\n# #                   cmap='prism')\n# viewer.add_scalar_field(model.features[0],\n#                      cmap='prism')\n\n# # Add the data addgrad/addvalue arguments are optional\n# viewer.add_data(model.features[0],addgrad=True,addvalue=True, cmap='prism')\n# viewer.lv.rotate([-85.18760681152344, 42.93233871459961, 0.8641873002052307])\nviewer.interactive()# to add an interactive display"
      ]
    }
  ],
  "metadata": {
    "kernelspec": {
      "display_name": "Python 3",
      "language": "python",
      "name": "python3"
    },
    "language_info": {
      "codemirror_mode": {
        "name": "ipython",
        "version": 3
      },
      "file_extension": ".py",
      "mimetype": "text/x-python",
      "name": "python",
      "nbconvert_exporter": "python",
      "pygments_lexer": "ipython3",
      "version": "3.9.1"
    }
  },
  "nbformat": 4,
  "nbformat_minor": 0
}