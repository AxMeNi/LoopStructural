{
  "cells": [
    {
      "cell_type": "code",
      "execution_count": null,
      "metadata": {
        "collapsed": false
      },
      "outputs": [],
      "source": [
        "%matplotlib inline"
      ]
    },
    {
      "cell_type": "markdown",
      "metadata": {},
      "source": [
        "\n# 1f. Implicit modelling: signed distance field\n\nThis example explores the relationship between the value of the scalar\nfield and the geometry that is modelled.\n"
      ]
    },
    {
      "cell_type": "code",
      "execution_count": null,
      "metadata": {
        "collapsed": false
      },
      "outputs": [],
      "source": [
        "from LoopStructural import GeologicalModel\nfrom LoopStructural.visualisation import LavaVuModelViewer\nimport numpy as np\nimport pandas as pd\nimport matplotlib.pyplot as plt"
      ]
    },
    {
      "cell_type": "markdown",
      "metadata": {},
      "source": [
        "## Changing magnitude of the gradient norm\n\nThe first example demonstrates how the value of the scalar field is\nrelated to the gradient norm, using a single value constraint and a\ngradient norm constraint where the magnitude of the norm is increased. A\nlarger gradient norm means that the distance between the same isovalues\nis decreased, as the function changes value at a faster rate.\n\n\n"
      ]
    },
    {
      "cell_type": "code",
      "execution_count": null,
      "metadata": {
        "collapsed": false
      },
      "outputs": [],
      "source": [
        "images = {}\nfor v in [1, 5, 1 / 5]:\n    v_data = np.zeros((1, 4))\n    v_data[0, :3] += 0.1\n    data = pd.DataFrame(v_data, columns=[\"X\", \"Y\", \"Z\", \"val\"])\n    data[\"feature_name\"] = \"test\"\n    data[\"feature_name\"] = \"test\"\n    data[\"nx\"] = np.nan\n    data[\"ny\"] = np.nan\n    data[\"nz\"] = np.nan\n    data.loc[3, :] = [0, 0, 0, np.nan, \"test\", v, 0, 0]\n    # data.loc[3,['nx','ny','nz']]/=np.linalg.norm(data.loc[3,['nx','ny','nz']])\n    # data.loc[4,:] = [0,0,1,np.nan,'test',1,0,0]\n    model = GeologicalModel(np.zeros(3), np.ones(3) * 10)\n    model.data = data\n    model.create_and_add_foliation(\"test\", nelements=1e4, interpolatortype=\"FDI\")\n    view = LavaVuModelViewer(model)\n    view.add_isosurface(model[\"test\"], slices=[0, 1], name=\"test\")\n    view.add_data(model[\"test\"])\n    view.rotate([-92.68915557861328, 2.879497528076172, 1.5840799808502197])\n    view.xmin = 0\n    view.ymin = 0\n    view.zmin = 0\n    view.xmax = 10\n    view.ymax = 10\n    view.zmax = 10\n    images[v] = view.image_array()\nfig, ax = plt.subplots(1, 3, figsize=(30, 10))\nax[0].imshow(images[1])\nax[1].imshow(images[5])\nax[2].imshow(images[1 / 5])\nax[0].axis(\"off\")\nax[1].axis(\"off\")\nax[2].axis(\"off\")\nax[0].set_title(f\"A. Magnitude of gradient norm {1.0} \")\nax[1].set_title(f\"B. Magnitude of gradient norm 5.0 \")\nax[2].set_title(f\"C. Magnitude of gradient norm {1/5.} \")"
      ]
    },
    {
      "cell_type": "markdown",
      "metadata": {},
      "source": [
        "## Changing magnitude of gradient norm with constant value constraints\n\nChanging the magnitude of the gradient norm changes the distances\nbetween the isosurfaces 0 and 1. What happens when we add value\nconstraints? With a gradient norm magnitude of 1, adding a point with\nthe value of 1 at the coordinates 1,1,1\n\n\n"
      ]
    },
    {
      "cell_type": "code",
      "execution_count": null,
      "metadata": {
        "collapsed": false
      },
      "outputs": [],
      "source": [
        "images = {}\nfor v in [1, 5, 1 / 5]:\n    v_data = np.zeros((1, 4))\n    v_data[0, :3] += 0.1\n    data = pd.DataFrame(v_data, columns=[\"X\", \"Y\", \"Z\", \"val\"])\n    data[\"feature_name\"] = \"test\"\n    data[\"feature_name\"] = \"test\"\n    data[\"nx\"] = np.nan\n    data[\"ny\"] = np.nan\n    data[\"nz\"] = np.nan\n    data.loc[1, :] = [1.1, 1.1, 1.1, 1.0, \"test\", np.nan, np.nan, np.nan]\n    data.loc[3, :] = [5, 5, 5, np.nan, \"test\", v, 0, 0]\n\n    # data.loc[3,['nx','ny','nz']]/=np.linalg.norm(data.loc[3,['nx','ny','nz']])\n    # data.loc[4,:] = [0,0,1,np.nan,'test',1,0,0]\n    model = GeologicalModel(np.zeros(3), np.ones(3) * 10)\n    model.data = data\n    model.create_and_add_foliation(\"test\", nelements=1e4, interpolatortype=\"FDI\")\n    view = LavaVuModelViewer(model)\n    view.add_isosurface(model[\"test\"], slices=[0, 1], name=\"test\")\n    # view.add_isosurface(model['test'],nslices=5,name='test2',colour='blue')\n\n    view.add_data(model[\"test\"])\n    view.rotate([-92.68915557861328, 2.879497528076172, 1.5840799808502197])\n    view.xmin = 0\n    view.ymin = 0\n    view.zmin = 0\n    view.xmax = 10\n    view.ymax = 10\n    view.zmax = 10\n    images[v] = view.image_array()\nfig, ax = plt.subplots(1, 3, figsize=(30, 10))\nax[0].imshow(images[1])\nax[1].imshow(images[5])\nax[2].imshow(images[1 / 5])\nax[0].axis(\"off\")\nax[1].axis(\"off\")\nax[2].axis(\"off\")\nax[0].set_title(f\"A. Magnitude of gradient norm {1.0} \")\nax[1].set_title(f\"B. Magnitude of gradient norm 5.0 \")\nax[2].set_title(f\"C. Magnitude of gradient norm {1/5.} \")"
      ]
    },
    {
      "cell_type": "markdown",
      "metadata": {},
      "source": [
        "-  The model in A. has a norm constraint where the magnitude norm is 1.0\n   and the distance between the value points 0 and 1 is 1.0m. In this\n   case the gradient norm is consistent with the data and the resulting\n   geometry is as we would expect.\n-  The model in B. has a norm constraint with the magnitude norm of 5.0\n   meaning the scalar field will grow quickly with the distance between\n   the isovalues 0 and 1 being shorter.\n-  The model in C. has a norm constraint with the magnitude of the\n   vector of 0.2, this means that the scalar field is going to grow\n   slower with the distance between 0 and 1 being larger.\n\nThe resulting surfaces in B and C are oblique to the Z,Y plane as this\nmakes the projected distance between the value points closer to the\nconstraint values. In this example the interpolation is minimised by not\nfitting the direction of the gradient norm but minimising the magnitude\nof the gradient norm. This is an important take away for building a 3D\nmodel as if the gradient norm of the norm constraints are not consistent\nwith the value constraints the model may have unexpected geometries.\n\n\n"
      ]
    },
    {
      "cell_type": "markdown",
      "metadata": {},
      "source": [
        "## Using gradient constraints\n\nAn alternative approach if the norm of the scalar field is not known is\nto use gradient constraints. This type of constraint finds two vectors\nperpendicular to the norm (strike and dip vectors) and adds two\nconstraints for the gradient of the implicit function to be\nperpendicular to these constraints. This type of constraint only\nconstrains the orientation of the scalar field and not the direction or\nmagnitude of the norm. In the following examples it does not matter what\nthe magnitude of the norm is for these constraints the models are the\nsame.\n\n\n"
      ]
    },
    {
      "cell_type": "code",
      "execution_count": null,
      "metadata": {
        "collapsed": false
      },
      "outputs": [],
      "source": [
        "images = {}\nfor v in [1, 5, 1 / 5]:\n    v_data = np.zeros((1, 4))\n    v_data[0, :3] += 0.1\n    data = pd.DataFrame(v_data, columns=[\"X\", \"Y\", \"Z\", \"val\"])\n    data[\"feature_name\"] = \"test\"\n    data[\"feature_name\"] = \"test\"\n    data[\"gx\"] = np.nan\n    data[\"gy\"] = np.nan\n    data[\"gz\"] = np.nan\n    data.loc[1, :] = [1.1, 1.1, 1.1, 1.0, \"test\", np.nan, np.nan, np.nan]\n    data.loc[3, :] = [5, 5, 5, np.nan, \"test\", v, 0, 0]\n\n    # data.loc[3,['nx','ny','nz']]/=np.linalg.norm(data.loc[3,['nx','ny','nz']])\n    # data.loc[4,:] = [0,0,1,np.nan,'test',1,0,0]\n    model = GeologicalModel(np.zeros(3), np.ones(3) * 10)\n    model.data = data\n    model.create_and_add_foliation(\"test\", nelements=1e4, interpolatortype=\"FDI\")\n    view = LavaVuModelViewer(model)\n    view.add_isosurface(model[\"test\"], slices=[0, 1], name=\"test\")\n    # view.add_isosurface(model['test'],nslices=5,name='test2',colour='blue')\n\n    view.add_data(model[\"test\"])\n    view.rotate([-92.68915557861328, 2.879497528076172, 1.5840799808502197])\n    view.xmin = 0\n    view.ymin = 0\n    view.zmin = 0\n    view.xmax = 10\n    view.ymax = 10\n    view.zmax = 10\n    images[v] = view.image_array()\nfig, ax = plt.subplots(1, 3, figsize=(30, 10))\nax[0].imshow(images[1])\nax[1].imshow(images[5])\nax[2].imshow(images[1 / 5])\nax[0].axis(\"off\")\nax[1].axis(\"off\")\nax[2].axis(\"off\")\nax[0].set_title(f\"A. Magnitude of vector {1.0} \")\nax[1].set_title(f\"B. Magnitude of vector 5.0 \")\nax[2].set_title(f\"C. Magnitude of vector {1/5.} \")"
      ]
    },
    {
      "cell_type": "markdown",
      "metadata": {},
      "source": [
        "## Dome structures\n\nThe geometry of dome structures are very sensitive to the difference in\nthe value of the scalar field. In this example there are two rings of\nvalue constraints where the centre ring has a scalar field value of 0\nand the outer ring has a scalar field value ranging of 1, 5 or 9. There\nis also a gradient norm constraint where the with different scalar field\nvalues\n\n\n"
      ]
    },
    {
      "cell_type": "code",
      "execution_count": null,
      "metadata": {
        "collapsed": false
      },
      "outputs": [],
      "source": [
        "images = {}\ninterpolator = \"FDI\"\n# for interpolator in ['PLI']:\nimages[interpolator] = {}\nfor val in [1, 5, 9]:  # range(1,10,1):\n    a = np.linspace(0, 360, 30)\n    radius_mult = 10\n    x = 0 + radius_mult * 3 * np.cos(np.deg2rad(a))\n    y = 0 + radius_mult * 3 * np.sin(np.deg2rad(a))\n    z = np.zeros_like(a)\n    x2 = 0 + radius_mult * 5.5 * np.cos(np.deg2rad(a))\n    y2 = 0 + radius_mult * 5.5 * np.sin(np.deg2rad(a))\n    z2 = np.zeros_like(a)\n\n    data = np.hstack([np.vstack([x, y, z, z]), np.vstack([x2, y2, z2, z2 + val])])\n\n    dataframe = pd.DataFrame(data.T, columns=[\"X\", \"Y\", \"Z\", \"val\"])\n    dataframe[\"feature_name\"] = \"test\"\n    dataframe[\"nx\"] = np.nan\n    dataframe[\"ny\"] = np.nan\n    dataframe[\"nz\"] = np.nan\n    dataframe.loc[len(dataframe), :] = [0, 0, 0, np.nan, \"test\", 0, 0, 1 / val]\n    model = GeologicalModel(\n        -radius_mult * np.ones(3) * np.array([10, 10, 1]),\n        radius_mult * np.ones(3) * np.array([10, 10, 1]),\n        rescale=False,\n    )\n    model.data = dataframe\n    model.create_and_add_foliation(\n        \"test\", nelements=5e4, interpolatortype=interpolator\n    )  # ,gpw=1,cpw=1,cgw=0.05)\n\n    view.clear()\n    view.model = model\n    view.add_isosurface(model.features[0], nslices=5, name=\"test\")\n    view.add_data(model.features[0])\n    view.rotation = [-64.91520690917969, -46.954345703125, -13.14844036102295]\n    images[interpolator][val] = view.image_array()\nfig, ax = plt.subplots(1, 3, figsize=(30, 10))\nax[0].imshow(images[\"FDI\"][1])\nax[1].imshow(images[\"FDI\"][5])\nax[2].imshow(images[\"FDI\"][9])\nax[0].axis(\"off\")\nax[1].axis(\"off\")\nax[2].axis(\"off\")\nax[0].set_title(f\"A. Value range {1.0} \")\nax[1].set_title(f\"B. Value range 5.0 \")\nax[2].set_title(f\"C. Value range 9.0 \")"
      ]
    },
    {
      "cell_type": "markdown",
      "metadata": {},
      "source": [
        "## Setting magnitude of norm to be 1\n\n\n"
      ]
    },
    {
      "cell_type": "code",
      "execution_count": null,
      "metadata": {
        "collapsed": false
      },
      "outputs": [],
      "source": [
        "images = {}\ninterpolator = \"FDI\"\n# for interpolator in ['PLI']:\nimages[interpolator] = {}\nfor val in [1, 5, 9]:  # range(1,10,1):\n    a = np.linspace(0, 360, 30)\n    radius_mult = 10\n    x = 0 + radius_mult * 3 * np.cos(np.deg2rad(a))\n    y = 0 + radius_mult * 3 * np.sin(np.deg2rad(a))\n    z = np.zeros_like(a)\n    x2 = 0 + radius_mult * 5.5 * np.cos(np.deg2rad(a))\n    y2 = 0 + radius_mult * 5.5 * np.sin(np.deg2rad(a))\n    z2 = np.zeros_like(a)\n\n    data = np.hstack([np.vstack([x, y, z, z]), np.vstack([x2, y2, z2, z2 + val])])\n\n    dataframe = pd.DataFrame(data.T, columns=[\"X\", \"Y\", \"Z\", \"val\"])\n    dataframe[\"feature_name\"] = \"test\"\n    dataframe[\"nx\"] = np.nan\n    dataframe[\"ny\"] = np.nan\n    dataframe[\"nz\"] = np.nan\n    dataframe.loc[len(dataframe), :] = [0, 0, 0, np.nan, \"test\", 0, 0, 1]\n    model = GeologicalModel(\n        -radius_mult * np.ones(3) * np.array([10, 10, 1]),\n        radius_mult * np.ones(3) * np.array([10, 10, 1]),\n        rescale=False,\n    )\n    model.data = dataframe\n    model.create_and_add_foliation(\n        \"test\", nelements=5e4, interpolatortype=interpolator\n    )  # ,gpw=1,cpw=1,cgw=0.05)\n\n    view.clear()\n    view.model = model\n    view.add_isosurface(model.features[0], nslices=5, name=\"test\")\n    view.add_data(model.features[0])\n    view.rotation = [-64.91520690917969, -46.954345703125, -13.14844036102295]\n    images[interpolator][val] = view.image_array()\nfig, ax = plt.subplots(1, 3, figsize=(30, 10))\nax[0].imshow(images[\"FDI\"][1])\nax[1].imshow(images[\"FDI\"][5])\nax[2].imshow(images[\"FDI\"][9])\nax[0].axis(\"off\")\nax[1].axis(\"off\")\nax[2].axis(\"off\")\nax[0].set_title(f\"A. Value range {1.0} \")\nax[1].set_title(f\"B. Value range 5.0 \")\nax[2].set_title(f\"C. Value range 9.0 \")"
      ]
    },
    {
      "cell_type": "markdown",
      "metadata": {},
      "source": [
        "## Using gradient constraints\n\nIf the norm direction is not known and gradient constraints are used the\nsolution is the same for all values.\n\n\n"
      ]
    },
    {
      "cell_type": "code",
      "execution_count": null,
      "metadata": {
        "collapsed": false
      },
      "outputs": [],
      "source": [
        "images = {}\ninterpolator = \"FDI\"\n# for interpolator in ['PLI']:\nimages[interpolator] = {}\nfor val in [1, 5, 9]:  # range(1,10,1):\n    a = np.linspace(0, 360, 30)\n    radius_mult = 10\n    x = 0 + radius_mult * 3 * np.cos(np.deg2rad(a))\n    y = 0 + radius_mult * 3 * np.sin(np.deg2rad(a))\n    z = np.zeros_like(a)\n    x2 = 0 + radius_mult * 5.5 * np.cos(np.deg2rad(a))\n    y2 = 0 + radius_mult * 5.5 * np.sin(np.deg2rad(a))\n    z2 = np.zeros_like(a)\n\n    data = np.hstack([np.vstack([x, y, z, z]), np.vstack([x2, y2, z2, z2 + val])])\n\n    dataframe = pd.DataFrame(data.T, columns=[\"X\", \"Y\", \"Z\", \"val\"])\n    dataframe[\"feature_name\"] = \"test\"\n    dataframe[\"gx\"] = np.nan\n    dataframe[\"gy\"] = np.nan\n    dataframe[\"gz\"] = np.nan\n    dataframe.loc[len(dataframe), :] = [0, 0, 0, np.nan, \"test\", 0, 0, 1]\n    model = GeologicalModel(\n        -radius_mult * np.ones(3) * np.array([10, 10, 1]),\n        radius_mult * np.ones(3) * np.array([10, 10, 1]),\n        rescale=False,\n    )\n    model.data = dataframe\n    model.create_and_add_foliation(\n        \"test\", nelements=5e4, interpolatortype=interpolator\n    )  # ,gpw=1,cpw=1,cgw=0.05)\n\n    view.clear()\n    view.model = model\n    view.add_isosurface(model.features[0], nslices=5, name=\"test\")\n    view.add_data(model.features[0])\n    view.rotation = [-64.91520690917969, -46.954345703125, -13.14844036102295]\n    images[interpolator][val] = view.image_array()\nfig, ax = plt.subplots(1, 3, figsize=(30, 10))\nax[0].imshow(images[\"FDI\"][1])\nax[1].imshow(images[\"FDI\"][5])\nax[2].imshow(images[\"FDI\"][9])\nax[0].axis(\"off\")\nax[1].axis(\"off\")\nax[2].axis(\"off\")\nax[0].set_title(f\"A. Value range {1.0} \")\nax[1].set_title(f\"B. Value range 5.0 \")\nax[2].set_title(f\"C. Value range 9.0 \")"
      ]
    }
  ],
  "metadata": {
    "kernelspec": {
      "display_name": "Python 3",
      "language": "python",
      "name": "python3"
    },
    "language_info": {
      "codemirror_mode": {
        "name": "ipython",
        "version": 3
      },
      "file_extension": ".py",
      "mimetype": "text/x-python",
      "name": "python",
      "nbconvert_exporter": "python",
      "pygments_lexer": "ipython3",
      "version": "3.9.12"
    }
  },
  "nbformat": 4,
  "nbformat_minor": 0
}