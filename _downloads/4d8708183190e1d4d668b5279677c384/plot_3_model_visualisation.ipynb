{
  "cells": [
    {
      "cell_type": "code",
      "execution_count": null,
      "metadata": {
        "collapsed": false
      },
      "outputs": [],
      "source": [
        "%matplotlib inline"
      ]
    },
    {
      "cell_type": "markdown",
      "metadata": {},
      "source": [
        "\n\n1c. Visualising models\n===============================\nThe following tutorial will demonstrate how to use the Loop structural visualisation module. \nThis module provides a wrapper for the lavavu model that is written by\nOwen Kaluza. \n\nLavavu allows for interactive visualisation of 3D models within a jupyter\nnotebook environment. \n\n\n"
      ]
    },
    {
      "cell_type": "markdown",
      "metadata": {},
      "source": [
        "Imports\n~~~~~~~\nImport the required objects from LoopStructural for visualisation and\nmodel building\n\n"
      ]
    },
    {
      "cell_type": "code",
      "execution_count": null,
      "metadata": {
        "collapsed": false
      },
      "outputs": [],
      "source": [
        "from LoopStructural import GeologicalModel\nfrom LoopStructural.visualisation import LavaVuModelViewer \n\nfrom LoopStructural.datasets import load_claudius #demo data \n\nimport pandas as pd\nimport numpy as np"
      ]
    },
    {
      "cell_type": "markdown",
      "metadata": {},
      "source": [
        "Build the model\n~~~~~~~~~~~~~~~~~\n\n"
      ]
    },
    {
      "cell_type": "code",
      "execution_count": null,
      "metadata": {
        "collapsed": false
      },
      "outputs": [],
      "source": [
        "data, bb = load_claudius()\nmodel = GeologicalModel(bb[0,:],bb[1,:])\nmodel.set_model_data(data)\nstrati = model.create_and_add_foliation(\"strati\")\nstrat_column = {'strati':{}}\nvals = [0,60,250,330,600]\nfor i in range(len(vals)-1):\n    strat_column['strati']['unit_{}'.format(i)] = {'min':vals[i],'max':vals[i+1],'id':i}\nmodel.set_stratigraphic_column(strat_column)"
      ]
    },
    {
      "cell_type": "markdown",
      "metadata": {},
      "source": [
        "Visualising results\n~~~~~~~~~~~~~~~~~~~\n\nThe LavaVuModelViewer is an LoopStructural class that provides easy 3D\nplotting options for plotting data points and resulting implicit\nfunctions.\n\nThe implicit function can be visualised by looking at isosurfaces of the\nscalar field.\n\n.. code:: python\n\n   viewer = LavaVuModelViewer()\n   viewer.add_isosurface(feature,**kwargs)\n\nWhere optional kwargs can be:\n\n-  ``nslices`` specifying the number of regularly spaced isosurfaces\n-  ``slices`` a numpy array or list of isovalues to slice\n-  ``isovalue`` an isovalue to slice\n-  ``paint_with`` the geological feature to colour the surface with\n-  ``cmap`` colour map for the colouring\n-  ``normals`` to plot the normal vectors to the surface\n-  ``name`` to give the surface\n-  ``colour`` the colour of the surface\n-  ``voxet`` dict with ``bounding_box=boundary_points`` and\n   ``nsteps = (nx,ny,nz)``\n-  other kwargs for passing directly to lavavu\n\nAlternatively the scalarfields can be displayed on a rectangular cuboid.\n\n.. code:: python\n\n   viewer.add_scalar_field(boundary_points,dimensions,**kwargs)\n\nWhere ``boundary_points`` is a numpy array\n``[[minx,miny,minz],[maxx,maxy,maxz]]`` and ``dimensions`` corresponds\nto the number of samples along each axis.\n\nOther possible kwargs are:\n\n-  ``paint_with`` the geological feature to colour the box with\n-  ``colour`` a single colour to colour the surfaces with\n-  ``cmap`` colour map for the property\n\nThe input data for the model can be visualised by calling either:\n\n.. code:: python\n\n   viewer.add_data(feature,addgrad=True,addvalue=True,**kwargs) \n\nWhere both the point and vector data linked to the feature are added to\nthe plot or by calling.\n\n.. code:: python\n\n   viewer.add_vector_data(position,vector,name,**kwargs)\n\nWhere ``position`` is an array or x,y,z coordinates and vector is a\nsimilarly sized array of ``vectors``. These can be extracted from a\ngeological feature by calling.\n``feature.support.interpolator.get_gradient_constraint()`` which returns\na Nx6 matrix of position and vectors.\n\nThe value data can be plotted by calling.\n\n.. code:: python\n\n   viewer.add_value_data(position,value,name,**kwargs)\n\nWhere ``position`` is an array or x,y,z coordinates and value is a\nsimilarly sized vector of values. These can be extracted from a\ngeological feature by calling.\n``feature.support.interpolator.get_value_constraint()`` which returns a\nNx4 matrix of position and values.\n\nOther possible options for plotting are to \\* plot point locations.\n\n.. code:: python\n\n   viewer.add_points(position, name, **kwargs)\n\n-  plot a vector field using the gradient of a geological feature\n\n.. code:: python\n\n   viewer.add_vector_field(feature, locations, **kwargs)\n\nWhere ``locations`` are an array of points to evaluate the gradient at,\nfor example the barycentric coordinates. It is recommended to visualise\nthe vectorfield at a lower resolution than the mesh otherwise it can be\ndifficult to see the vectors. You can use numpy stepping along the\narray: ``locations = mesh.barycentre[::20,:]`` which will sample every\n20th sample in the numpy array.\n\n\n"
      ]
    },
    {
      "cell_type": "code",
      "execution_count": null,
      "metadata": {
        "collapsed": false
      },
      "outputs": [],
      "source": [
        "viewer = LavaVuModelViewer(model,background=\"white\")\n\n# determine the number of unique surfaces in the model from \n# the input data and then calculate isosurfaces for this\nunique = np.unique(strati.interpolator.get_value_constraints()[:,3])\nviewer.add_isosurface(strati,\n                       slices=unique,  \n                       cmap='prism',\n                      paint_with=strati,\n                     voxet=model.voxet())\n\nviewer.add_section(strati,\n                   axis='x',\n                   value=0.,\n                   boundary_points=model.bounding_box, \n                   nsteps=np.array([30,30,30]),\n                  cmap='prism')\nviewer.add_scalar_field(strati,\n                     cmap='prism')\nviewer.add_model()\n\n# Add the data addgrad/addvalue arguments are optional\nviewer.add_data(strati,addgrad=True,addvalue=True, cmap='prism')\nviewer.lv.rotate([-85.18760681152344, 42.93233871459961, 0.8641873002052307])\nviewer.display()# to add an interactive display"
      ]
    }
  ],
  "metadata": {
    "kernelspec": {
      "display_name": "Python 3",
      "language": "python",
      "name": "python3"
    },
    "language_info": {
      "codemirror_mode": {
        "name": "ipython",
        "version": 3
      },
      "file_extension": ".py",
      "mimetype": "text/x-python",
      "name": "python",
      "nbconvert_exporter": "python",
      "pygments_lexer": "ipython3",
      "version": "3.6.6"
    }
  },
  "nbformat": 4,
  "nbformat_minor": 0
}